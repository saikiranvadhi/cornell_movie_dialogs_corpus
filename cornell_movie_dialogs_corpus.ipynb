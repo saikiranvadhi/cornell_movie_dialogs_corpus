{
  "nbformat": 4,
  "nbformat_minor": 0,
  "metadata": {
    "colab": {
      "name": "cornell_movie_dialogs_corpus.ipynb",
      "version": "0.3.2",
      "provenance": []
    },
    "kernelspec": {
      "name": "python3",
      "display_name": "Python 3"
    },
    "accelerator": "GPU"
  },
  "cells": [
    {
      "cell_type": "code",
      "metadata": {
        "id": "NfY3ANY4stFZ",
        "colab_type": "code",
        "outputId": "30335a7a-b85c-4deb-9752-b456f34b4458",
        "colab": {
          "base_uri": "https://localhost:8080/",
          "height": 34
        }
      },
      "source": [
        "from google.colab import drive\n",
        "drive.mount('/content/gdrive', force_remount=True)\n",
        "root_dir = \"/content/gdrive/My Drive/workspaces/\"\n",
        "base_dir = root_dir + 'data/'\n",
        "\n",
        "kaggle_json = root_dir + 'kaggle.json'\n",
        "\n",
        "! mkdir -p ~/.kaggle/\n",
        "! cp \"$kaggle_json\" ~/.kaggle/"
      ],
      "execution_count": 0,
      "outputs": [
        {
          "output_type": "stream",
          "text": [
            "Mounted at /content/gdrive\n"
          ],
          "name": "stdout"
        }
      ]
    },
    {
      "cell_type": "code",
      "metadata": {
        "id": "SIp8FGlJs0Ra",
        "colab_type": "code",
        "outputId": "53e11acf-5c71-4539-8e17-db84992b1832",
        "colab": {
          "base_uri": "https://localhost:8080/",
          "height": 34
        }
      },
      "source": [
        "import tensorflow as tf\n",
        "tf.test.gpu_device_name()"
      ],
      "execution_count": 0,
      "outputs": [
        {
          "output_type": "execute_result",
          "data": {
            "text/plain": [
              "'/device:GPU:0'"
            ]
          },
          "metadata": {
            "tags": []
          },
          "execution_count": 2
        }
      ]
    },
    {
      "cell_type": "code",
      "metadata": {
        "id": "VDcD-_5FslMB",
        "colab_type": "code",
        "colab": {}
      },
      "source": [
        "import numpy as np\n",
        "import pandas as pd\n",
        "import tensorflow as tf\n",
        "import matplotlib.pyplot as plt\n",
        "import tqdm\n",
        "%matplotlib inline"
      ],
      "execution_count": 0,
      "outputs": []
    },
    {
      "cell_type": "code",
      "metadata": {
        "id": "nJrEsKM1t6F-",
        "colab_type": "code",
        "outputId": "24b24462-9334-4b2a-e4ed-77fc0269ea8a",
        "colab": {
          "base_uri": "https://localhost:8080/",
          "height": 153
        }
      },
      "source": [
        "# data url: http://www.cs.cornell.edu/~cristian/data/cornell_movie_dialogs_corpus.zip\n",
        "! ls -ltrh \"{base_dir}cornell_movie_dialogs_corpus\""
      ],
      "execution_count": 0,
      "outputs": [
        {
          "output_type": "stream",
          "text": [
            "total 41M\n",
            "-rw------- 1 root root 284K May  7 14:51 chameleons.pdf\n",
            "-rw------- 1 root root 690K May  7 14:51 movie_characters_metadata.txt\n",
            "-rw------- 1 root root 4.1K May  7 14:51 README.txt\n",
            "-rw------- 1 root root  55K May  7 14:51 raw_script_urls.txt\n",
            "-rw------- 1 root root  66K May  7 14:51 movie_titles_metadata.txt\n",
            "-rw------- 1 root root 6.5M May  7 14:51 movie_conversations.txt\n",
            "-rw------- 1 root root  34M May  7 14:52 movie_lines.txt\n"
          ],
          "name": "stdout"
        }
      ]
    },
    {
      "cell_type": "code",
      "metadata": {
        "id": "QQOGsoEFslMM",
        "colab_type": "code",
        "colab": {}
      },
      "source": [
        "# Read files\n",
        "with open(base_dir + \"cornell_movie_dialogs_corpus/movie_conversations.txt\", 'r', encoding=\"latin1\") as conv_file:\n",
        "    conv_raw = pd.read_csv(conv_file, sep=\" \\+\\+\\+\\$\\+\\+\\+ \", header = None, engine = 'python')\n",
        "    conv_raw.columns = ['person1', 'person2', 'movie', 'conv_seq']\n",
        "\n",
        "with open(base_dir + \"cornell_movie_dialogs_corpus/movie_lines.txt\", 'r', encoding=\"latin1\") as conv_file:\n",
        "    conv_lines = pd.read_csv(conv_file, sep=\" \\+\\+\\+\\$\\+\\+\\+ \", header = None, engine = 'python')\n",
        "    conv_lines.columns = ['line_num', 'person', 'movie', 'person_name', 'dialog']"
      ],
      "execution_count": 0,
      "outputs": []
    },
    {
      "cell_type": "code",
      "metadata": {
        "id": "jpWIgAgvslMQ",
        "colab_type": "code",
        "outputId": "9ea5d138-aba1-47c6-999d-0ef14ec7a096",
        "colab": {
          "base_uri": "https://localhost:8080/",
          "height": 204
        }
      },
      "source": [
        "conv_raw.head(5)"
      ],
      "execution_count": 0,
      "outputs": [
        {
          "output_type": "execute_result",
          "data": {
            "text/html": [
              "<div>\n",
              "<style scoped>\n",
              "    .dataframe tbody tr th:only-of-type {\n",
              "        vertical-align: middle;\n",
              "    }\n",
              "\n",
              "    .dataframe tbody tr th {\n",
              "        vertical-align: top;\n",
              "    }\n",
              "\n",
              "    .dataframe thead th {\n",
              "        text-align: right;\n",
              "    }\n",
              "</style>\n",
              "<table border=\"1\" class=\"dataframe\">\n",
              "  <thead>\n",
              "    <tr style=\"text-align: right;\">\n",
              "      <th></th>\n",
              "      <th>person1</th>\n",
              "      <th>person2</th>\n",
              "      <th>movie</th>\n",
              "      <th>conv_seq</th>\n",
              "    </tr>\n",
              "  </thead>\n",
              "  <tbody>\n",
              "    <tr>\n",
              "      <th>0</th>\n",
              "      <td>u0</td>\n",
              "      <td>u2</td>\n",
              "      <td>m0</td>\n",
              "      <td>['L194', 'L195', 'L196', 'L197']</td>\n",
              "    </tr>\n",
              "    <tr>\n",
              "      <th>1</th>\n",
              "      <td>u0</td>\n",
              "      <td>u2</td>\n",
              "      <td>m0</td>\n",
              "      <td>['L198', 'L199']</td>\n",
              "    </tr>\n",
              "    <tr>\n",
              "      <th>2</th>\n",
              "      <td>u0</td>\n",
              "      <td>u2</td>\n",
              "      <td>m0</td>\n",
              "      <td>['L200', 'L201', 'L202', 'L203']</td>\n",
              "    </tr>\n",
              "    <tr>\n",
              "      <th>3</th>\n",
              "      <td>u0</td>\n",
              "      <td>u2</td>\n",
              "      <td>m0</td>\n",
              "      <td>['L204', 'L205', 'L206']</td>\n",
              "    </tr>\n",
              "    <tr>\n",
              "      <th>4</th>\n",
              "      <td>u0</td>\n",
              "      <td>u2</td>\n",
              "      <td>m0</td>\n",
              "      <td>['L207', 'L208']</td>\n",
              "    </tr>\n",
              "  </tbody>\n",
              "</table>\n",
              "</div>"
            ],
            "text/plain": [
              "  person1 person2 movie                          conv_seq\n",
              "0      u0      u2    m0  ['L194', 'L195', 'L196', 'L197']\n",
              "1      u0      u2    m0                  ['L198', 'L199']\n",
              "2      u0      u2    m0  ['L200', 'L201', 'L202', 'L203']\n",
              "3      u0      u2    m0          ['L204', 'L205', 'L206']\n",
              "4      u0      u2    m0                  ['L207', 'L208']"
            ]
          },
          "metadata": {
            "tags": []
          },
          "execution_count": 6
        }
      ]
    },
    {
      "cell_type": "code",
      "metadata": {
        "id": "JUHo2W-jslMU",
        "colab_type": "code",
        "outputId": "ae268f1e-a9d5-4746-b592-e0ae6b79f62b",
        "colab": {
          "base_uri": "https://localhost:8080/",
          "height": 204
        }
      },
      "source": [
        "conv_lines.head(5)"
      ],
      "execution_count": 0,
      "outputs": [
        {
          "output_type": "execute_result",
          "data": {
            "text/html": [
              "<div>\n",
              "<style scoped>\n",
              "    .dataframe tbody tr th:only-of-type {\n",
              "        vertical-align: middle;\n",
              "    }\n",
              "\n",
              "    .dataframe tbody tr th {\n",
              "        vertical-align: top;\n",
              "    }\n",
              "\n",
              "    .dataframe thead th {\n",
              "        text-align: right;\n",
              "    }\n",
              "</style>\n",
              "<table border=\"1\" class=\"dataframe\">\n",
              "  <thead>\n",
              "    <tr style=\"text-align: right;\">\n",
              "      <th></th>\n",
              "      <th>line_num</th>\n",
              "      <th>person</th>\n",
              "      <th>movie</th>\n",
              "      <th>person_name</th>\n",
              "      <th>dialog</th>\n",
              "    </tr>\n",
              "  </thead>\n",
              "  <tbody>\n",
              "    <tr>\n",
              "      <th>0</th>\n",
              "      <td>L1045</td>\n",
              "      <td>u0</td>\n",
              "      <td>m0</td>\n",
              "      <td>BIANCA</td>\n",
              "      <td>They do not!</td>\n",
              "    </tr>\n",
              "    <tr>\n",
              "      <th>1</th>\n",
              "      <td>L1044</td>\n",
              "      <td>u2</td>\n",
              "      <td>m0</td>\n",
              "      <td>CAMERON</td>\n",
              "      <td>They do to!</td>\n",
              "    </tr>\n",
              "    <tr>\n",
              "      <th>2</th>\n",
              "      <td>L985</td>\n",
              "      <td>u0</td>\n",
              "      <td>m0</td>\n",
              "      <td>BIANCA</td>\n",
              "      <td>I hope so.</td>\n",
              "    </tr>\n",
              "    <tr>\n",
              "      <th>3</th>\n",
              "      <td>L984</td>\n",
              "      <td>u2</td>\n",
              "      <td>m0</td>\n",
              "      <td>CAMERON</td>\n",
              "      <td>She okay?</td>\n",
              "    </tr>\n",
              "    <tr>\n",
              "      <th>4</th>\n",
              "      <td>L925</td>\n",
              "      <td>u0</td>\n",
              "      <td>m0</td>\n",
              "      <td>BIANCA</td>\n",
              "      <td>Let's go.</td>\n",
              "    </tr>\n",
              "  </tbody>\n",
              "</table>\n",
              "</div>"
            ],
            "text/plain": [
              "  line_num person movie person_name        dialog\n",
              "0    L1045     u0    m0      BIANCA  They do not!\n",
              "1    L1044     u2    m0     CAMERON   They do to!\n",
              "2     L985     u0    m0      BIANCA    I hope so.\n",
              "3     L984     u2    m0     CAMERON     She okay?\n",
              "4     L925     u0    m0      BIANCA     Let's go."
            ]
          },
          "metadata": {
            "tags": []
          },
          "execution_count": 7
        }
      ]
    },
    {
      "cell_type": "code",
      "metadata": {
        "id": "VNh7DHhzslMX",
        "colab_type": "code",
        "colab": {}
      },
      "source": [
        "# Let's work on conv_raw\n",
        "# the 'conv_seq' column is in the form of a array, let's use it\n",
        "# and also add couple of columns for first and last lines in the dialog\n",
        "from ast import literal_eval\n",
        "conv_raw['conv_seq'] = conv_raw['conv_seq'].apply(lambda x: [line.replace('L', '') for line in literal_eval(x)])\n",
        "conv_raw['first_line'] = conv_raw['conv_seq'].apply(lambda x: x[0])\n",
        "conv_raw['last_line'] = conv_raw['conv_seq'].apply(lambda x: x[-1])"
      ],
      "execution_count": 0,
      "outputs": []
    },
    {
      "cell_type": "code",
      "metadata": {
        "id": "I5Z3aba3slMa",
        "colab_type": "code",
        "outputId": "5370a427-57cb-463d-bda7-76e7775a6aa8",
        "colab": {
          "base_uri": "https://localhost:8080/",
          "height": 359
        }
      },
      "source": [
        "# Let's add a few more columns similar to index\n",
        "conv_raw.sort_values(by = ['movie', 'person1', 'person2', 'first_line']).reset_index(drop = True)\n",
        "conv_raw['unique_ppm'] = conv_raw['person1'] + conv_raw['person2'] + conv_raw['movie']\n",
        "conv_raw['unique_row_id'] = conv_raw['unique_ppm'] + \"_\" + conv_raw['last_line']\n",
        "conv_raw.head(10)"
      ],
      "execution_count": 0,
      "outputs": [
        {
          "output_type": "execute_result",
          "data": {
            "text/html": [
              "<div>\n",
              "<style scoped>\n",
              "    .dataframe tbody tr th:only-of-type {\n",
              "        vertical-align: middle;\n",
              "    }\n",
              "\n",
              "    .dataframe tbody tr th {\n",
              "        vertical-align: top;\n",
              "    }\n",
              "\n",
              "    .dataframe thead th {\n",
              "        text-align: right;\n",
              "    }\n",
              "</style>\n",
              "<table border=\"1\" class=\"dataframe\">\n",
              "  <thead>\n",
              "    <tr style=\"text-align: right;\">\n",
              "      <th></th>\n",
              "      <th>person1</th>\n",
              "      <th>person2</th>\n",
              "      <th>movie</th>\n",
              "      <th>conv_seq</th>\n",
              "      <th>first_line</th>\n",
              "      <th>last_line</th>\n",
              "      <th>unique_ppm</th>\n",
              "      <th>unique_row_id</th>\n",
              "    </tr>\n",
              "  </thead>\n",
              "  <tbody>\n",
              "    <tr>\n",
              "      <th>0</th>\n",
              "      <td>u0</td>\n",
              "      <td>u2</td>\n",
              "      <td>m0</td>\n",
              "      <td>[194, 195, 196, 197]</td>\n",
              "      <td>194</td>\n",
              "      <td>197</td>\n",
              "      <td>u0u2m0</td>\n",
              "      <td>u0u2m0_197</td>\n",
              "    </tr>\n",
              "    <tr>\n",
              "      <th>1</th>\n",
              "      <td>u0</td>\n",
              "      <td>u2</td>\n",
              "      <td>m0</td>\n",
              "      <td>[198, 199]</td>\n",
              "      <td>198</td>\n",
              "      <td>199</td>\n",
              "      <td>u0u2m0</td>\n",
              "      <td>u0u2m0_199</td>\n",
              "    </tr>\n",
              "    <tr>\n",
              "      <th>2</th>\n",
              "      <td>u0</td>\n",
              "      <td>u2</td>\n",
              "      <td>m0</td>\n",
              "      <td>[200, 201, 202, 203]</td>\n",
              "      <td>200</td>\n",
              "      <td>203</td>\n",
              "      <td>u0u2m0</td>\n",
              "      <td>u0u2m0_203</td>\n",
              "    </tr>\n",
              "    <tr>\n",
              "      <th>3</th>\n",
              "      <td>u0</td>\n",
              "      <td>u2</td>\n",
              "      <td>m0</td>\n",
              "      <td>[204, 205, 206]</td>\n",
              "      <td>204</td>\n",
              "      <td>206</td>\n",
              "      <td>u0u2m0</td>\n",
              "      <td>u0u2m0_206</td>\n",
              "    </tr>\n",
              "    <tr>\n",
              "      <th>4</th>\n",
              "      <td>u0</td>\n",
              "      <td>u2</td>\n",
              "      <td>m0</td>\n",
              "      <td>[207, 208]</td>\n",
              "      <td>207</td>\n",
              "      <td>208</td>\n",
              "      <td>u0u2m0</td>\n",
              "      <td>u0u2m0_208</td>\n",
              "    </tr>\n",
              "    <tr>\n",
              "      <th>5</th>\n",
              "      <td>u0</td>\n",
              "      <td>u2</td>\n",
              "      <td>m0</td>\n",
              "      <td>[271, 272, 273, 274, 275]</td>\n",
              "      <td>271</td>\n",
              "      <td>275</td>\n",
              "      <td>u0u2m0</td>\n",
              "      <td>u0u2m0_275</td>\n",
              "    </tr>\n",
              "    <tr>\n",
              "      <th>6</th>\n",
              "      <td>u0</td>\n",
              "      <td>u2</td>\n",
              "      <td>m0</td>\n",
              "      <td>[276, 277]</td>\n",
              "      <td>276</td>\n",
              "      <td>277</td>\n",
              "      <td>u0u2m0</td>\n",
              "      <td>u0u2m0_277</td>\n",
              "    </tr>\n",
              "    <tr>\n",
              "      <th>7</th>\n",
              "      <td>u0</td>\n",
              "      <td>u2</td>\n",
              "      <td>m0</td>\n",
              "      <td>[280, 281]</td>\n",
              "      <td>280</td>\n",
              "      <td>281</td>\n",
              "      <td>u0u2m0</td>\n",
              "      <td>u0u2m0_281</td>\n",
              "    </tr>\n",
              "    <tr>\n",
              "      <th>8</th>\n",
              "      <td>u0</td>\n",
              "      <td>u2</td>\n",
              "      <td>m0</td>\n",
              "      <td>[363, 364]</td>\n",
              "      <td>363</td>\n",
              "      <td>364</td>\n",
              "      <td>u0u2m0</td>\n",
              "      <td>u0u2m0_364</td>\n",
              "    </tr>\n",
              "    <tr>\n",
              "      <th>9</th>\n",
              "      <td>u0</td>\n",
              "      <td>u2</td>\n",
              "      <td>m0</td>\n",
              "      <td>[365, 366]</td>\n",
              "      <td>365</td>\n",
              "      <td>366</td>\n",
              "      <td>u0u2m0</td>\n",
              "      <td>u0u2m0_366</td>\n",
              "    </tr>\n",
              "  </tbody>\n",
              "</table>\n",
              "</div>"
            ],
            "text/plain": [
              "  person1 person2 movie                   conv_seq first_line last_line  \\\n",
              "0      u0      u2    m0       [194, 195, 196, 197]        194       197   \n",
              "1      u0      u2    m0                 [198, 199]        198       199   \n",
              "2      u0      u2    m0       [200, 201, 202, 203]        200       203   \n",
              "3      u0      u2    m0            [204, 205, 206]        204       206   \n",
              "4      u0      u2    m0                 [207, 208]        207       208   \n",
              "5      u0      u2    m0  [271, 272, 273, 274, 275]        271       275   \n",
              "6      u0      u2    m0                 [276, 277]        276       277   \n",
              "7      u0      u2    m0                 [280, 281]        280       281   \n",
              "8      u0      u2    m0                 [363, 364]        363       364   \n",
              "9      u0      u2    m0                 [365, 366]        365       366   \n",
              "\n",
              "  unique_ppm unique_row_id  \n",
              "0     u0u2m0    u0u2m0_197  \n",
              "1     u0u2m0    u0u2m0_199  \n",
              "2     u0u2m0    u0u2m0_203  \n",
              "3     u0u2m0    u0u2m0_206  \n",
              "4     u0u2m0    u0u2m0_208  \n",
              "5     u0u2m0    u0u2m0_275  \n",
              "6     u0u2m0    u0u2m0_277  \n",
              "7     u0u2m0    u0u2m0_281  \n",
              "8     u0u2m0    u0u2m0_364  \n",
              "9     u0u2m0    u0u2m0_366  "
            ]
          },
          "metadata": {
            "tags": []
          },
          "execution_count": 9
        }
      ]
    },
    {
      "cell_type": "code",
      "metadata": {
        "id": "a3Q8pk_fslMe",
        "colab_type": "code",
        "colab": {}
      },
      "source": [
        "# I'm trying to concatenate dialogues between the same two people\n",
        "# and if the dialogues are in succession but broken into different rows in the data\n",
        "g = (conv_raw['unique_ppm'] + \"_\" + (conv_raw['first_line'].map(int) - 1).map(str) != conv_raw.shift().fillna(method='bfill')['unique_row_id']).cumsum().rename('group')\n",
        "conv_agg = conv_raw.groupby(['person1', 'person2', 'movie', g])['conv_seq'].apply(list).reset_index().drop('group',axis=1)\n",
        "conv_agg['conv_seq'] = conv_agg['conv_seq'].apply(lambda l: [item for sublist in l for item in sublist])"
      ],
      "execution_count": 0,
      "outputs": []
    },
    {
      "cell_type": "code",
      "metadata": {
        "id": "AAdWtBTrslMk",
        "colab_type": "code",
        "outputId": "e70aa1f4-5088-4174-cc63-a85f06581b63",
        "colab": {
          "base_uri": "https://localhost:8080/",
          "height": 221
        }
      },
      "source": [
        "print(conv_agg.head(10))\n",
        "print(conv_raw.shape, conv_agg.shape)"
      ],
      "execution_count": 0,
      "outputs": [
        {
          "output_type": "stream",
          "text": [
            "  person1 person2 movie                                           conv_seq\n",
            "0      u0     u11    m0                          [179, 180, 181, 182, 183]\n",
            "1      u0     u11    m0                                         [189, 190]\n",
            "2      u0     u11    m0                          [517, 518, 519, 520, 521]\n",
            "3      u0     u11    m0                                         [523, 524]\n",
            "4      u0     u11    m0                          [536, 537, 538, 539, 540]\n",
            "5      u0     u11    m0                                    [544, 545, 546]\n",
            "6      u0     u11    m0                [878, 879, 880, 881, 882, 883, 884]\n",
            "7      u0     u11    m0                                         [922, 923]\n",
            "8      u0      u2    m0  [194, 195, 196, 197, 198, 199, 200, 201, 202, ...\n",
            "9      u0      u2    m0                [271, 272, 273, 274, 275, 276, 277]\n",
            "(83097, 8) (60699, 4)\n"
          ],
          "name": "stdout"
        }
      ]
    },
    {
      "cell_type": "code",
      "metadata": {
        "id": "T_btDLmXslMr",
        "colab_type": "code",
        "colab": {}
      },
      "source": [
        "# Creating a function to clean out the input sentences\n",
        "import re\n",
        "\n",
        "def clean_sentence(raw_sent):\n",
        "    raw_sent = raw_sent.lower()\n",
        "    # remove html tags like <i>, </u>\n",
        "    raw_sent = re.sub(r'<\\/*[a-z]?>', '', raw_sent)\n",
        "    # special character for 'pause' (..., ---) replaced with \"<pause>\"\n",
        "    raw_sent = re.sub(r'\\s*(\\.\\.+|--+)\\s*', ' <pause> ', raw_sent)\n",
        "    # words like doin', goin' to be replaced with doing, going\n",
        "    raw_sent = re.sub(r'([a-z]+)in\\'', r'\\1ing', raw_sent)\n",
        "    # you've, there've replaced with you have, there have\n",
        "    raw_sent = re.sub(r'([a-z]+)\\'ve', r'\\1 have', raw_sent)\n",
        "    # remove double quotes\n",
        "    raw_sent = re.sub(r'\\\"', '', raw_sent)\n",
        "    # treat commas and other EOS tags as words (put space around them)\n",
        "    raw_sent = re.sub(r'\\s*([\\.,!\\?]+)\\s*', r' \\1 ', raw_sent)\n",
        "    # 's to be seperated from the word with some exceptions\n",
        "    raw_sent = re.sub(r'([a-z]+)(\\'s)', r'\\1 \\2', raw_sent)\n",
        "    exceptions = r\"\\b(it|that|there|he|she) (\\'s)\"\n",
        "    raw_sent = re.sub(exceptions, r'\\1\\2', raw_sent)\n",
        "    # remove leading and trailing spaces\n",
        "    raw_sent = re.sub(r'^\\s*|\\s*$', '', raw_sent)\n",
        "    raw_sent = re.sub(r'\\s+', ' ', raw_sent)\n",
        "    # add <eos> tag at the end of sentence\n",
        "    # raw_sent = raw_sent + \" <eos>\"\n",
        "    return(raw_sent)"
      ],
      "execution_count": 0,
      "outputs": []
    },
    {
      "cell_type": "code",
      "metadata": {
        "id": "_ZibnomFslMn",
        "colab_type": "code",
        "outputId": "5be7a38f-3d4d-402e-aaad-48a8dd23eb48",
        "colab": {
          "base_uri": "https://localhost:8080/",
          "height": 68
        }
      },
      "source": [
        "# Just testing regex for next function, delete this\n",
        "import re\n",
        "raw_sent = \"   -Sai --Kiran---V's-123.. <a> Sai   \\\"you've been,   've doin' . somethin' but\\\" it 's ?everythin   \"\n",
        "print(raw_sent)\n",
        "exceptions = r\"\\b(it|that|there|he|she|let) (\\'s)\"\n",
        "print(re.sub(exceptions, r'\\1\\2', raw_sent))\n",
        "clean_sentence(raw_sent)"
      ],
      "execution_count": 0,
      "outputs": [
        {
          "output_type": "stream",
          "text": [
            "   -Sai --Kiran---V's-123.. <a> Sai   \"you've been,   've doin' . somethin' but\" it 's ?everythin   \n",
            "   -Sai --Kiran---V's-123.. <a> Sai   \"you've been,   've doin' . somethin' but\" it's ?everythin   \n"
          ],
          "name": "stdout"
        },
        {
          "output_type": "execute_result",
          "data": {
            "text/plain": [
              "\"-sai <pause> kiran <pause> v 's-123 <pause> sai you have been , 've doing . something but it's ? everythin\""
            ]
          },
          "metadata": {
            "tags": []
          },
          "execution_count": 13
        }
      ]
    },
    {
      "cell_type": "code",
      "metadata": {
        "id": "-IwIN8o08X3T",
        "colab_type": "code",
        "colab": {}
      },
      "source": [
        "print(sum(conv_lines.dialog.map(lambda x: x is None)))\n",
        "# Looks like some error reading few lines of conv_lines dataset\n",
        "for i in conv_lines[conv_lines['dialog'].isnull()].index.tolist():\n",
        "  conv_lines.loc[i, 'person_name'] = conv_lines.loc[i, 'person_name'].replace(' +++$+++', '')\n",
        "conv_lines.dialog.fillna(value=\"\", inplace=True)\n",
        "print(sum(conv_lines.dialog.map(lambda x: x is None)))"
      ],
      "execution_count": 0,
      "outputs": []
    },
    {
      "cell_type": "code",
      "metadata": {
        "id": "DIaboMeeslMv",
        "colab_type": "code",
        "colab": {}
      },
      "source": [
        "all_dialogs = np.array(conv_lines.dialog)\n",
        "all_dialogs = clean_sentence(' '.join(all_dialogs))"
      ],
      "execution_count": 0,
      "outputs": []
    },
    {
      "cell_type": "code",
      "metadata": {
        "id": "3h73eKQ18pAw",
        "colab_type": "code",
        "colab": {}
      },
      "source": [
        "import tensorflow as tf\n",
        "from tensorflow.keras.preprocessing.sequence import pad_sequences\n",
        "from tensorflow.keras.layers import Embedding, LSTM, Dense\n",
        "from tensorflow.keras.preprocessing.text import Tokenizer\n",
        "from tensorflow.keras.callbacks import EarlyStopping\n",
        "from tensorflow.keras.models import Sequential"
      ],
      "execution_count": 0,
      "outputs": []
    },
    {
      "cell_type": "code",
      "metadata": {
        "id": "hUbNBi5XA9Qm",
        "colab_type": "code",
        "colab": {}
      },
      "source": [
        "tokenizer = Tokenizer()\n",
        "tokenizer.fit_on_texts(all_dialogs)"
      ],
      "execution_count": 0,
      "outputs": []
    },
    {
      "cell_type": "code",
      "metadata": {
        "id": "4OPLwZTiQSOm",
        "colab_type": "code",
        "colab": {}
      },
      "source": [
        ""
      ],
      "execution_count": 0,
      "outputs": []
    }
  ]
}