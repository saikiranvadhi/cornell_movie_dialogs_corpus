{
 "cells": [
  {
   "cell_type": "code",
   "execution_count": 70,
   "metadata": {
    "collapsed": false
   },
   "outputs": [
    {
     "ename": "ImportError",
     "evalue": "No module named 'tqdm'",
     "output_type": "error",
     "traceback": [
      "\u001b[0;31m---------------------------------------------------------------------------\u001b[0m",
      "\u001b[0;31mImportError\u001b[0m                               Traceback (most recent call last)",
      "\u001b[0;32m<ipython-input-70-dde39bc93882>\u001b[0m in \u001b[0;36m<module>\u001b[0;34m()\u001b[0m\n\u001b[1;32m      3\u001b[0m \u001b[1;32mimport\u001b[0m \u001b[0mtensorflow\u001b[0m \u001b[1;32mas\u001b[0m \u001b[0mtf\u001b[0m\u001b[1;33m\u001b[0m\u001b[0m\n\u001b[1;32m      4\u001b[0m \u001b[1;32mimport\u001b[0m \u001b[0mmatplotlib\u001b[0m\u001b[1;33m.\u001b[0m\u001b[0mpyplot\u001b[0m \u001b[1;32mas\u001b[0m \u001b[0mplt\u001b[0m\u001b[1;33m\u001b[0m\u001b[0m\n\u001b[0;32m----> 5\u001b[0;31m \u001b[1;32mimport\u001b[0m \u001b[0mtqdm\u001b[0m\u001b[1;33m\u001b[0m\u001b[0m\n\u001b[0m\u001b[1;32m      6\u001b[0m \u001b[0mget_ipython\u001b[0m\u001b[1;33m(\u001b[0m\u001b[1;33m)\u001b[0m\u001b[1;33m.\u001b[0m\u001b[0mmagic\u001b[0m\u001b[1;33m(\u001b[0m\u001b[1;34m'matplotlib inline'\u001b[0m\u001b[1;33m)\u001b[0m\u001b[1;33m\u001b[0m\u001b[0m\n",
      "\u001b[0;31mImportError\u001b[0m: No module named 'tqdm'"
     ]
    }
   ],
   "source": [
    "import numpy as np\n",
    "import pandas as pd\n",
    "import tensorflow as tf\n",
    "import matplotlib.pyplot as plt\n",
    "import tqdm\n",
    "%matplotlib inline"
   ]
  },
  {
   "cell_type": "code",
   "execution_count": 71,
   "metadata": {
    "collapsed": false
   },
   "outputs": [],
   "source": [
    "# Read files\n",
    "with open(\"//QATLPCFS001/Users/skiran/Downloads/cornell_movie_dialogs_corpus/movie_conversations.txt\", 'r') as conv_file:\n",
    "    conv_raw = pd.read_csv(conv_file, sep=\" \\+\\+\\+\\$\\+\\+\\+ \", header = None, engine = 'python')\n",
    "    conv_raw.columns = ['person1', 'person2', 'movie', 'conv_seq']\n",
    "\n",
    "with open(\"//QATLPCFS001/Users/skiran/Downloads/cornell_movie_dialogs_corpus/movie_lines.txt\", 'r') as conv_file:\n",
    "    conv_lines = pd.read_csv(conv_file, sep=\" \\+\\+\\+\\$\\+\\+\\+ \", header = None, engine = 'python')\n",
    "    conv_lines.columns = ['line_num', 'person', 'movie', 'person_name', 'line']"
   ]
  },
  {
   "cell_type": "code",
   "execution_count": 72,
   "metadata": {
    "collapsed": false
   },
   "outputs": [
    {
     "data": {
      "text/html": [
       "<div>\n",
       "<table border=\"1\" class=\"dataframe\">\n",
       "  <thead>\n",
       "    <tr style=\"text-align: right;\">\n",
       "      <th></th>\n",
       "      <th>person1</th>\n",
       "      <th>person2</th>\n",
       "      <th>movie</th>\n",
       "      <th>conv_seq</th>\n",
       "    </tr>\n",
       "  </thead>\n",
       "  <tbody>\n",
       "    <tr>\n",
       "      <th>0</th>\n",
       "      <td>u0</td>\n",
       "      <td>u2</td>\n",
       "      <td>m0</td>\n",
       "      <td>['L194', 'L195', 'L196', 'L197']</td>\n",
       "    </tr>\n",
       "    <tr>\n",
       "      <th>1</th>\n",
       "      <td>u0</td>\n",
       "      <td>u2</td>\n",
       "      <td>m0</td>\n",
       "      <td>['L198', 'L199']</td>\n",
       "    </tr>\n",
       "    <tr>\n",
       "      <th>2</th>\n",
       "      <td>u0</td>\n",
       "      <td>u2</td>\n",
       "      <td>m0</td>\n",
       "      <td>['L200', 'L201', 'L202', 'L203']</td>\n",
       "    </tr>\n",
       "    <tr>\n",
       "      <th>3</th>\n",
       "      <td>u0</td>\n",
       "      <td>u2</td>\n",
       "      <td>m0</td>\n",
       "      <td>['L204', 'L205', 'L206']</td>\n",
       "    </tr>\n",
       "    <tr>\n",
       "      <th>4</th>\n",
       "      <td>u0</td>\n",
       "      <td>u2</td>\n",
       "      <td>m0</td>\n",
       "      <td>['L207', 'L208']</td>\n",
       "    </tr>\n",
       "  </tbody>\n",
       "</table>\n",
       "</div>"
      ],
      "text/plain": [
       "  person1 person2 movie                          conv_seq\n",
       "0      u0      u2    m0  ['L194', 'L195', 'L196', 'L197']\n",
       "1      u0      u2    m0                  ['L198', 'L199']\n",
       "2      u0      u2    m0  ['L200', 'L201', 'L202', 'L203']\n",
       "3      u0      u2    m0          ['L204', 'L205', 'L206']\n",
       "4      u0      u2    m0                  ['L207', 'L208']"
      ]
     },
     "execution_count": 72,
     "metadata": {},
     "output_type": "execute_result"
    }
   ],
   "source": [
    "conv_raw.head(5)"
   ]
  },
  {
   "cell_type": "code",
   "execution_count": 73,
   "metadata": {
    "collapsed": false
   },
   "outputs": [
    {
     "data": {
      "text/html": [
       "<div>\n",
       "<table border=\"1\" class=\"dataframe\">\n",
       "  <thead>\n",
       "    <tr style=\"text-align: right;\">\n",
       "      <th></th>\n",
       "      <th>line_num</th>\n",
       "      <th>person</th>\n",
       "      <th>movie</th>\n",
       "      <th>person_name</th>\n",
       "      <th>line</th>\n",
       "    </tr>\n",
       "  </thead>\n",
       "  <tbody>\n",
       "    <tr>\n",
       "      <th>0</th>\n",
       "      <td>L1045</td>\n",
       "      <td>u0</td>\n",
       "      <td>m0</td>\n",
       "      <td>BIANCA</td>\n",
       "      <td>They do not!</td>\n",
       "    </tr>\n",
       "    <tr>\n",
       "      <th>1</th>\n",
       "      <td>L1044</td>\n",
       "      <td>u2</td>\n",
       "      <td>m0</td>\n",
       "      <td>CAMERON</td>\n",
       "      <td>They do to!</td>\n",
       "    </tr>\n",
       "    <tr>\n",
       "      <th>2</th>\n",
       "      <td>L985</td>\n",
       "      <td>u0</td>\n",
       "      <td>m0</td>\n",
       "      <td>BIANCA</td>\n",
       "      <td>I hope so.</td>\n",
       "    </tr>\n",
       "    <tr>\n",
       "      <th>3</th>\n",
       "      <td>L984</td>\n",
       "      <td>u2</td>\n",
       "      <td>m0</td>\n",
       "      <td>CAMERON</td>\n",
       "      <td>She okay?</td>\n",
       "    </tr>\n",
       "    <tr>\n",
       "      <th>4</th>\n",
       "      <td>L925</td>\n",
       "      <td>u0</td>\n",
       "      <td>m0</td>\n",
       "      <td>BIANCA</td>\n",
       "      <td>Let's go.</td>\n",
       "    </tr>\n",
       "  </tbody>\n",
       "</table>\n",
       "</div>"
      ],
      "text/plain": [
       "  line_num person movie person_name          line\n",
       "0    L1045     u0    m0      BIANCA  They do not!\n",
       "1    L1044     u2    m0     CAMERON   They do to!\n",
       "2     L985     u0    m0      BIANCA    I hope so.\n",
       "3     L984     u2    m0     CAMERON     She okay?\n",
       "4     L925     u0    m0      BIANCA     Let's go."
      ]
     },
     "execution_count": 73,
     "metadata": {},
     "output_type": "execute_result"
    }
   ],
   "source": [
    "conv_lines.head(5)"
   ]
  },
  {
   "cell_type": "code",
   "execution_count": 74,
   "metadata": {
    "collapsed": false
   },
   "outputs": [],
   "source": [
    "# extract dialogue sequnce as an array\n",
    "from ast import literal_eval\n",
    "conv_raw['conv_seq'] = conv_raw['conv_seq'].apply(lambda x: [line.replace('L', '') for line in literal_eval(x)])\n",
    "conv_raw['first_line'] = conv_raw['conv_seq'].apply(lambda x: x[0])\n",
    "conv_raw['last_line'] = conv_raw['conv_seq'].apply(lambda x: x[-1])"
   ]
  },
  {
   "cell_type": "code",
   "execution_count": 97,
   "metadata": {
    "collapsed": false
   },
   "outputs": [
    {
     "data": {
      "text/html": [
       "<div>\n",
       "<table border=\"1\" class=\"dataframe\">\n",
       "  <thead>\n",
       "    <tr style=\"text-align: right;\">\n",
       "      <th></th>\n",
       "      <th>person1</th>\n",
       "      <th>person2</th>\n",
       "      <th>movie</th>\n",
       "      <th>conv_seq</th>\n",
       "      <th>first_line</th>\n",
       "      <th>last_line</th>\n",
       "      <th>unique_ppm</th>\n",
       "      <th>unique_row_id</th>\n",
       "    </tr>\n",
       "  </thead>\n",
       "  <tbody>\n",
       "    <tr>\n",
       "      <th>0</th>\n",
       "      <td>u0</td>\n",
       "      <td>u2</td>\n",
       "      <td>m0</td>\n",
       "      <td>[194, 195, 196, 197]</td>\n",
       "      <td>194</td>\n",
       "      <td>197</td>\n",
       "      <td>u0u2m0</td>\n",
       "      <td>u0u2m0_197</td>\n",
       "    </tr>\n",
       "    <tr>\n",
       "      <th>1</th>\n",
       "      <td>u0</td>\n",
       "      <td>u2</td>\n",
       "      <td>m0</td>\n",
       "      <td>[198, 199]</td>\n",
       "      <td>198</td>\n",
       "      <td>199</td>\n",
       "      <td>u0u2m0</td>\n",
       "      <td>u0u2m0_199</td>\n",
       "    </tr>\n",
       "    <tr>\n",
       "      <th>2</th>\n",
       "      <td>u0</td>\n",
       "      <td>u2</td>\n",
       "      <td>m0</td>\n",
       "      <td>[200, 201, 202, 203]</td>\n",
       "      <td>200</td>\n",
       "      <td>203</td>\n",
       "      <td>u0u2m0</td>\n",
       "      <td>u0u2m0_203</td>\n",
       "    </tr>\n",
       "    <tr>\n",
       "      <th>3</th>\n",
       "      <td>u0</td>\n",
       "      <td>u2</td>\n",
       "      <td>m0</td>\n",
       "      <td>[204, 205, 206]</td>\n",
       "      <td>204</td>\n",
       "      <td>206</td>\n",
       "      <td>u0u2m0</td>\n",
       "      <td>u0u2m0_206</td>\n",
       "    </tr>\n",
       "    <tr>\n",
       "      <th>4</th>\n",
       "      <td>u0</td>\n",
       "      <td>u2</td>\n",
       "      <td>m0</td>\n",
       "      <td>[207, 208]</td>\n",
       "      <td>207</td>\n",
       "      <td>208</td>\n",
       "      <td>u0u2m0</td>\n",
       "      <td>u0u2m0_208</td>\n",
       "    </tr>\n",
       "    <tr>\n",
       "      <th>5</th>\n",
       "      <td>u0</td>\n",
       "      <td>u2</td>\n",
       "      <td>m0</td>\n",
       "      <td>[271, 272, 273, 274, 275]</td>\n",
       "      <td>271</td>\n",
       "      <td>275</td>\n",
       "      <td>u0u2m0</td>\n",
       "      <td>u0u2m0_275</td>\n",
       "    </tr>\n",
       "    <tr>\n",
       "      <th>6</th>\n",
       "      <td>u0</td>\n",
       "      <td>u2</td>\n",
       "      <td>m0</td>\n",
       "      <td>[276, 277]</td>\n",
       "      <td>276</td>\n",
       "      <td>277</td>\n",
       "      <td>u0u2m0</td>\n",
       "      <td>u0u2m0_277</td>\n",
       "    </tr>\n",
       "    <tr>\n",
       "      <th>7</th>\n",
       "      <td>u0</td>\n",
       "      <td>u2</td>\n",
       "      <td>m0</td>\n",
       "      <td>[280, 281]</td>\n",
       "      <td>280</td>\n",
       "      <td>281</td>\n",
       "      <td>u0u2m0</td>\n",
       "      <td>u0u2m0_281</td>\n",
       "    </tr>\n",
       "    <tr>\n",
       "      <th>8</th>\n",
       "      <td>u0</td>\n",
       "      <td>u2</td>\n",
       "      <td>m0</td>\n",
       "      <td>[363, 364]</td>\n",
       "      <td>363</td>\n",
       "      <td>364</td>\n",
       "      <td>u0u2m0</td>\n",
       "      <td>u0u2m0_364</td>\n",
       "    </tr>\n",
       "    <tr>\n",
       "      <th>9</th>\n",
       "      <td>u0</td>\n",
       "      <td>u2</td>\n",
       "      <td>m0</td>\n",
       "      <td>[365, 366]</td>\n",
       "      <td>365</td>\n",
       "      <td>366</td>\n",
       "      <td>u0u2m0</td>\n",
       "      <td>u0u2m0_366</td>\n",
       "    </tr>\n",
       "  </tbody>\n",
       "</table>\n",
       "</div>"
      ],
      "text/plain": [
       "  person1 person2 movie                   conv_seq first_line last_line  \\\n",
       "0      u0      u2    m0       [194, 195, 196, 197]        194       197   \n",
       "1      u0      u2    m0                 [198, 199]        198       199   \n",
       "2      u0      u2    m0       [200, 201, 202, 203]        200       203   \n",
       "3      u0      u2    m0            [204, 205, 206]        204       206   \n",
       "4      u0      u2    m0                 [207, 208]        207       208   \n",
       "5      u0      u2    m0  [271, 272, 273, 274, 275]        271       275   \n",
       "6      u0      u2    m0                 [276, 277]        276       277   \n",
       "7      u0      u2    m0                 [280, 281]        280       281   \n",
       "8      u0      u2    m0                 [363, 364]        363       364   \n",
       "9      u0      u2    m0                 [365, 366]        365       366   \n",
       "\n",
       "  unique_ppm unique_row_id  \n",
       "0     u0u2m0    u0u2m0_197  \n",
       "1     u0u2m0    u0u2m0_199  \n",
       "2     u0u2m0    u0u2m0_203  \n",
       "3     u0u2m0    u0u2m0_206  \n",
       "4     u0u2m0    u0u2m0_208  \n",
       "5     u0u2m0    u0u2m0_275  \n",
       "6     u0u2m0    u0u2m0_277  \n",
       "7     u0u2m0    u0u2m0_281  \n",
       "8     u0u2m0    u0u2m0_364  \n",
       "9     u0u2m0    u0u2m0_366  "
      ]
     },
     "execution_count": 97,
     "metadata": {},
     "output_type": "execute_result"
    }
   ],
   "source": [
    "conv_raw.sort_values(by = ['movie', 'person1', 'person2', 'first_line']).reset_index(drop = True)\n",
    "conv_raw['unique_ppm'] = conv_raw['person1'] + conv_raw['person2'] + conv_raw['movie']\n",
    "conv_raw['unique_row_id'] = conv_raw['unique_ppm'] + \"_\" + conv_raw['last_line']\n",
    "conv_raw.head(10)"
   ]
  },
  {
   "cell_type": "code",
   "execution_count": 142,
   "metadata": {
    "collapsed": false
   },
   "outputs": [],
   "source": [
    "from functools import reduce\n",
    "def merge_lists(series):\n",
    "    if len(series) > 1:\n",
    "        return reduce(lambda x, y: x + y, series)\n",
    "    else:\n",
    "        return series[0]\n",
    "\n",
    "g = (conv_raw['unique_ppm'] + \"_\" + (conv_raw['first_line'].map(int) - 1).map(str) != conv_raw.shift().fillna(method='bfill')['unique_row_id']).cumsum().rename('group')\n",
    "conv_agg = conv_raw.groupby(['person1', 'person2', 'movie', g])['conv_seq'].apply(list).reset_index().drop('group',axis=1)\n",
    "conv_agg['conv_seq'] = conv_agg['conv_seq'].apply(lambda l: [item for sublist in l for item in sublist])"
   ]
  },
  {
   "cell_type": "code",
   "execution_count": 148,
   "metadata": {
    "collapsed": false
   },
   "outputs": [
    {
     "name": "stdout",
     "output_type": "stream",
     "text": [
      "  person1 person2 movie                                           conv_seq\n",
      "0      u0     u11    m0                          [179, 180, 181, 182, 183]\n",
      "1      u0     u11    m0                                         [189, 190]\n",
      "2      u0     u11    m0                          [517, 518, 519, 520, 521]\n",
      "3      u0     u11    m0                                         [523, 524]\n",
      "4      u0     u11    m0                          [536, 537, 538, 539, 540]\n",
      "5      u0     u11    m0                                    [544, 545, 546]\n",
      "6      u0     u11    m0                [878, 879, 880, 881, 882, 883, 884]\n",
      "7      u0     u11    m0                                         [922, 923]\n",
      "8      u0      u2    m0  [194, 195, 196, 197, 198, 199, 200, 201, 202, ...\n",
      "9      u0      u2    m0                [271, 272, 273, 274, 275, 276, 277]\n",
      "(83097, 8) (60699, 4)\n"
     ]
    }
   ],
   "source": [
    "print(conv_agg.head(10))\n",
    "print(conv_raw.shape, conv_agg.shape)"
   ]
  },
  {
   "cell_type": "code",
   "execution_count": 188,
   "metadata": {
    "collapsed": false
   },
   "outputs": [
    {
     "name": "stdout",
     "output_type": "stream",
     "text": [
      "   -Sai --Kiran---Vadhi's-123.. <a> Sai \"you've been, 've doin' . nothin' but\" it 's ?everythin   \n",
      "   -Sai --Kiran---Vadhi's-123.. <a> Sai \"you've been, 've doin' . nothin' but\" it's ?everythin   \n"
     ]
    }
   ],
   "source": [
    "import re\n",
    "raw_sent = \"   -Sai --Kiran---Vadhi's-123.. <a> Sai \\\"you've been, 've doin' . nothin' but\\\" it 's ?everythin   \"\n",
    "print(raw_sent)\n",
    "exceptions = r\"\\b(it|that|there|he|she) (\\'s)\"\n",
    "print(re.sub(exceptions, r'\\1\\2', raw_sent))"
   ]
  },
  {
   "cell_type": "code",
   "execution_count": 189,
   "metadata": {
    "collapsed": false
   },
   "outputs": [],
   "source": [
    "import re\n",
    "\n",
    "def clean_sentence(raw_sent):\n",
    "    raw_sent = raw_sent.lower()\n",
    "    # remove html tags like <i>, </u>\n",
    "    raw_sent = re.sub(r'<\\/*[a-z]?>', '', raw_sent)\n",
    "    # special character for 'pause' (..., ---) replaced with \"<pause>\"\n",
    "    raw_sent = re.sub(r'\\s*(\\.\\.+|--+)\\s*', ' <pause> ', raw_sent)\n",
    "    # words like doin', goin' to be replaced with doing, going\n",
    "    raw_sent = re.sub(r'([a-z]+)in\\'', r'\\1ing', raw_sent)\n",
    "    # you've, there've replaced with you have, there have\n",
    "    raw_sent = re.sub(r'([a-z]+)\\'ve', r'\\1 have', raw_sent)\n",
    "    # remove double quotes\n",
    "    raw_sent = re.sub(r'\\\"', '', raw_sent)\n",
    "    # treat commas and other EOS tags as words (put space around them)\n",
    "    raw_sent = re.sub(r'\\s*([\\.,!\\?]+)\\s*', r'\\s\\1\\s', raw_sent)\n",
    "    # 's to be seperated from the word with some exceptions\n",
    "    raw_sent = re.sub(r'([a-z]+)(\\'s)', r'\\1 \\2', raw_sent)\n",
    "    exceptions = r\"\\b(it|that|there|he|she) (\\'s)\"\n",
    "    raw_sent = re.sub(exceptions, r'\\1\\2', raw_sent)\n",
    "    # remove leading and trailing spaces\n",
    "    raw_sent = re.sub(r'^\\s*|\\s*$', '', raw_sent)\n",
    "    # add <eos> tag at the end of sentence\n",
    "    raw_sent = raw_sent + \" <eos>\"\n",
    "    return(raw_sent)"
   ]
  },
  {
   "cell_type": "code",
   "execution_count": null,
   "metadata": {
    "collapsed": true
   },
   "outputs": [],
   "source": []
  }
 ],
 "metadata": {
  "anaconda-cloud": {},
  "kernelspec": {
   "display_name": "Python [conda root]",
   "language": "python",
   "name": "conda-root-py"
  },
  "language_info": {
   "codemirror_mode": {
    "name": "ipython",
    "version": 3
   },
   "file_extension": ".py",
   "mimetype": "text/x-python",
   "name": "python",
   "nbconvert_exporter": "python",
   "pygments_lexer": "ipython3",
   "version": "3.5.2"
  }
 },
 "nbformat": 4,
 "nbformat_minor": 1
}
